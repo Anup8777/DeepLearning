{
 "cells": [
  {
   "cell_type": "markdown",
   "metadata": {},
   "source": [
    "# IHA2 - Catching Pokemon"
   ]
  },
  {
   "cell_type": "markdown",
   "metadata": {},
   "source": [
    "![](http://tibetanitech.com/wp-content/uploads/2016/09/Pokemon-GO.jpg)"
   ]
  },
  {
   "cell_type": "markdown",
   "metadata": {},
   "source": [
    "In this home assignment, you'll apply roughly the same principles we used when doing logistic regression on the Iris dataset, but on a new and very interesting dataset. We'll use the [Predict'em All](https://www.kaggle.com/semioniy/predictemall) dataset from Kaggle (download the dataset directly from them). This dataset consists of roughly 293,000 [pokemon](http://www.pokemongo.com/) sightings (historical appearances of Pokemon in the Pokemon Go game), having coordinates, time, weather, population density, distance to pokestops/ gyms etc. as features. A comprehensive list of all the features is available at [the dataset's homepage](https://www.kaggle.com/semioniy/predictemall)\n",
    "\n",
    "The context is simple: you are a Pokemon hunter, and there are only three Pokemon left for you to complete your collection. You'll do anything to capture them, including changing where you'll spend your next holidays! You know that some Pokemon only spawn in certain places of the world. Since you like machine learning so much, you figure it would be a great idea to train a classifier that, based on a location's latitude and longitude, can tell us which Pokemon is more likely to appear there.\n",
    "\n",
    "The assignment is broken down into six steps.\n",
    "\n",
    "1. Loading the data and extracting the desired subset of it\n",
    "2. Visualization of the dataset\n",
    "3. Preprocessing\n",
    "4. Training\n",
    "5. Evaluation\n",
    "6. Exploration\n",
    "\n",
    "\n",
    "Feel free to add cells wherever you see fit, and play around with this notebook as much as you want when developing the solutions. However, the solution you upload to ping-pong must have the exact format shown here, with only the cells present here.\n",
    "\n",
    "Don't restrict yourself only to what was taught so far. Some of the tasks might require you to search for new information. [The python docs](https://docs.python.org/3/), [keras docs](https://keras.io/), [stackoverflow](https://stackoverflow.com/), and Google are your friends!"
   ]
  },
  {
   "cell_type": "markdown",
   "metadata": {},
   "source": [
    "## 0. Imports"
   ]
  },
  {
   "cell_type": "markdown",
   "metadata": {},
   "source": [
    "Import any necessary modules here."
   ]
  },
  {
   "cell_type": "code",
   "execution_count": 275,
   "metadata": {},
   "outputs": [],
   "source": [
    "import numpy as np\n",
    "import matplotlib.pyplot as plt\n",
    "import pandas as pd\n",
    "import keras\n",
    "from keras.models import Sequential\n",
    "from keras.layers import Dense\n",
    "from sklearn.preprocessing import LabelEncoder, OneHotEncoder\n",
    "from sklearn.model_selection import train_test_split\n",
    "from sklearn.preprocessing import StandardScaler\n",
    "import seaborn as sns\n",
    "from keras.optimizers import Adam"
   ]
  },
  {
   "cell_type": "markdown",
   "metadata": {},
   "source": [
    "## 1. Loading and extracting subset"
   ]
  },
  {
   "cell_type": "markdown",
   "metadata": {},
   "source": [
    "Load the `'300k.csv'` file using pandas."
   ]
  },
  {
   "cell_type": "code",
   "execution_count": 276,
   "metadata": {},
   "outputs": [
    {
     "name": "stderr",
     "output_type": "stream",
     "text": [
      "D:\\SP_5\\rep2\\lib\\site-packages\\IPython\\core\\interactiveshell.py:2785: DtypeWarning: Columns (49) have mixed types. Specify dtype option on import or set low_memory=False.\n",
      "  interactivity=interactivity, compiler=compiler, result=result)\n"
     ]
    }
   ],
   "source": [
    "data_whole = pd.read_csv('300k.csv')"
   ]
  },
  {
   "cell_type": "markdown",
   "metadata": {},
   "source": [
    "Create a new `DataFrame` with only the columns `latitude`, `longitude`, and `class`."
   ]
  },
  {
   "cell_type": "code",
   "execution_count": 277,
   "metadata": {
    "scrolled": true
   },
   "outputs": [
    {
     "name": "stdout",
     "output_type": "stream",
     "text": [
      "         latitude   longitude  class\n",
      "0       20.525745  -97.460829     16\n",
      "1       20.523695  -97.461167    133\n",
      "2       38.903590  -77.199780     16\n",
      "3       47.665903 -122.312561     13\n",
      "4       47.666454 -122.311628    133\n",
      "5      -31.954980  115.853609     21\n",
      "6      -31.954245  115.852038     66\n",
      "7       26.235257  -98.197591     27\n",
      "8       20.525554  -97.458800     35\n",
      "9       32.928558  -84.340278     19\n",
      "10      32.930646  -84.339867    116\n",
      "11      32.943651  -84.334443     74\n",
      "12      26.235552  -98.197249     16\n",
      "13      20.525770  -97.460237     19\n",
      "14      26.236029  -98.196908     19\n",
      "15      47.664333 -122.312645     19\n",
      "16      20.526489  -97.460745     16\n",
      "17      53.611417 -113.369528     13\n",
      "18      20.525710  -97.459477     32\n",
      "19     -31.954346  115.851576    129\n",
      "20      26.331856  -81.814452     23\n",
      "21      26.235527  -98.197677     75\n",
      "22      20.524085  -97.458547     35\n",
      "23      32.823098 -116.901110     29\n",
      "24      20.524930  -97.460406     16\n",
      "25      26.235537  -98.197506     58\n",
      "26      47.666999 -122.312617     48\n",
      "27      32.824114 -116.901662     46\n",
      "28      49.335511   17.996289     41\n",
      "29      20.525767  -97.460322     19\n",
      "...           ...         ...    ...\n",
      "295991  26.248790  -98.214078     19\n",
      "295992  26.235527  -98.197677     19\n",
      "295993  50.108875   14.492695     98\n",
      "295994  50.109866   14.492641    120\n",
      "295995  50.148875   14.103072    133\n",
      "295996  37.212358 -119.699481     24\n",
      "295997  39.750456  -84.098522     19\n",
      "295998  42.278480  -87.840356     19\n",
      "295999  49.128625 -122.664004     16\n",
      "296000  39.284573  -76.605934     54\n",
      "296001  45.989958    8.887003     13\n",
      "296002  41.624226  -70.898810    118\n",
      "296003  44.870993   -0.705668     16\n",
      "296004  50.145533   14.104905     29\n",
      "296005  39.286591  -76.606837    118\n",
      "296006  39.750114  -84.098110     16\n",
      "296007  46.054811   14.558377     16\n",
      "296008  47.144467    7.244585     16\n",
      "296009  33.983854  -80.994575     19\n",
      "296010  42.280318  -87.835750     16\n",
      "296011  43.337917  -89.376141     16\n",
      "296012  39.961658  -75.922326     10\n",
      "296013  53.793798   -1.847944     41\n",
      "296014  53.792016   -1.836903     96\n",
      "296015  59.600801   15.834892     16\n",
      "296016  39.119052  -76.633194     19\n",
      "296017  47.142237    7.244752     13\n",
      "296018  42.258532  -87.881248     16\n",
      "296019  26.230929  -98.194772     19\n",
      "296020  50.144272   14.101178     96\n",
      "\n",
      "[296021 rows x 3 columns]\n"
     ]
    }
   ],
   "source": [
    "data_new_feature = pd.DataFrame(data_whole, columns = ['latitude', 'longitude','terrainType','class'])\n",
    "data_needed = pd.DataFrame(data_whole, columns = ['latitude', 'longitude', 'class'])\n",
    "print(data_needed)"
   ]
  },
  {
   "cell_type": "markdown",
   "metadata": {},
   "source": [
    "Note that the `class` column specifies which pokemon it is. However, it only has the numerical id of the pokemon. For convenience, use the following dictionary to convert between ids and names."
   ]
  },
  {
   "cell_type": "code",
   "execution_count": 278,
   "metadata": {},
   "outputs": [],
   "source": [
    "pokemons = ['Diglett', 'Seel', 'Tauros']\n",
    "name_dict={1: 'Bulbasaur', 2: 'Ivysaur', 3: 'Venusaur', 4: 'Charmander', 5: 'Charmeleon', 6: 'Charizard', 7: 'Squirtle', 8: \n",
    "          'Wartortle', 9: 'Blastoise', 10: 'Caterpie', 11: 'Metapod', 12: 'Butterfree', 13: 'Weedle', 14: 'Kakuna', \n",
    "          15: 'Beedrill', 16: 'Pidgey', 17: 'Pidgeotto', 18: 'Pidgeot', 19: 'Rattata', 20: 'Raticate', 21: 'Spearow',\n",
    "          22: 'Fearow', 23: 'Ekans', 24: 'Arbok', 25: 'Pikachu', 26: 'Raichu', 27: 'Sandshrew', 28: 'Sandslash', \n",
    "          29: 'Nidoran F', 30: 'Nidorina', 31: 'Nidoqueen',32: 'Nidoran M', 33: 'Nidorino', 34: 'Nidoking', 35: 'Clefairy',\n",
    "          36: 'Clefable', 37: 'Vulpix', 38: 'Ninetales', 39: 'Jigglypuff', 40: 'Wigglytuff', 41: 'Zubat', 42: 'Golbat', \n",
    "          43: 'Oddish', 44: 'Gloom', 45: 'Vileplume', 46: 'Paras', 47: 'Parasect', 48: 'Venonat', 49: 'Venomoth',\n",
    "          50: 'Diglett', 51: 'Dugtrio', 52: 'Meowth', 53: 'Persian', 54: 'Psyduck',55: 'Golduck', 56: 'Mankey', \n",
    "          57: 'Primeape', 58: 'Growlithe', 59: 'Arcanine', 60: 'Poliwag', 61: 'Poliwhirl', 62: 'Poliwrath',\n",
    "          63: 'Abra', 64: 'Kadabra', 65: 'Alakazam', 66: 'Machop', 67: 'Machoke', 68: 'Machamp', 69: 'Bellsprout', \n",
    "          70: 'Weepinbell', 71: 'Victreebel', 72: 'Tentacool', 73: 'Tentacruel', 74: 'Geodude', 75: 'Graveler',\n",
    "          76: 'Golem', 77: 'Ponyta', 78: 'Rapidash', 79: 'Slowpoke', 80: 'Slowbro', 81: 'Magnemite', 82: 'Magneton',\n",
    "          83: \"Farfetch'd\", 84: 'Doduo', 85: 'Dodrio', 86: 'Seel', 87: 'Dewgong', 88: 'Grimer', 89: 'Muk', \n",
    "          90: 'Shellder', 91: 'Cloyster', 92: 'Gastly', 93: 'Haunter', 94: 'Gengar', 95: 'Onix', 96: 'Drowzee',\n",
    "          97: 'Hypno', 98: 'Krabby', 99: 'Kingler', 100: 'Voltorb', 101: 'Electrode', 102: 'Exeggcute', 103: 'Exeggutor', \n",
    "          104: 'Cubone', 105: 'Marowak', 106: 'Hitmonlee', 107: 'Hitmonchan', 108: 'Lickitung', 109: 'Koffing',\n",
    "          110: 'Weezing', 111: 'Rhyhorn', 112: 'Rhydon', 113: 'Chansey', 114: 'Tangela', 115: 'Kangaskhan', 116: 'Horsea', \n",
    "          117: 'Seadra', 118: 'Goldeen', 119: 'Seaking', 120: 'Staryu', 121: 'Starmie', 122: 'Mr. Mime', 123: 'Scyther', \n",
    "          124: 'Jynx', 125: 'Electabuzz', 126: 'Magmar', 127: 'Pinsir', 128: 'Tauros', 129: 'Magikarp', 130: 'Gyarados', \n",
    "          131: 'Lapras', 132: 'Ditto', 133: 'Eevee', 134: 'Vaporeon', 135: 'Jolteon', 136: 'Flareon', 137: 'Porygon', \n",
    "          138: 'Omanyte', 139: 'Omastar', 140: 'Kabuto', 141: 'Kabutops', 142: 'Aerodactyl', 143: 'Snorlax', 144: 'Articuno',\n",
    "          145: 'Zapdos', 146: 'Moltres', 147: 'Dratini', 148: 'Dragonair', 149: 'Dragonite', 150: 'Mewtwo', 'Bulbasaur': 1, 'Ivysaur': 2, 'Venusaur': 3, 'Charmander': 4, 'Charmeleon': 5, 'Charizard': 6, 'Squirtle': 7, 'Wartortle': 8, 'Blastoise': 9, 'Caterpie': 10, 'Metapod': 11, 'Butterfree': 12, 'Weedle': 13, 'Kakuna': 14, 'Beedrill': 15, 'Pidgey': 16, 'Pidgeotto': 17, 'Pidgeot': 18, 'Rattata': 19, 'Raticate': 20, 'Spearow': 21, 'Fearow': 22, 'Ekans': 23, 'Arbok': 24, 'Pikachu': 25, 'Raichu': 26, 'Sandshrew': 27, 'Sandslash': 28, 'Nidoran F': 29, 'Nidorina': 30, 'Nidoqueen': 31, 'Nidoran M': 32, 'Nidorino': 33, 'Nidoking': 34, 'Clefairy': 35, 'Clefable': 36, 'Vulpix': 37, 'Ninetales': 38, 'Jigglypuff': 39, 'Wigglytuff': 40, 'Zubat': 41, 'Golbat': 42, 'Oddish': 43, 'Gloom': 44, 'Vileplume': 45, 'Paras': 46, 'Parasect': 47, 'Venonat': 48, 'Venomoth': 49, 'Diglett': 50, 'Dugtrio': 51, 'Meowth': 52, 'Persian': 53, 'Psyduck': 54, 'Golduck': 55, 'Mankey': 56, 'Primeape': 57, 'Growlithe': 58, 'Arcanine': 59, 'Poliwag': 60, 'Poliwhirl': 61, 'Poliwrath': 62, 'Abra': 63, 'Kadabra': 64, 'Alakazam': 65, 'Machop': 66, 'Machoke': 67, 'Machamp': 68, 'Bellsprout': 69, 'Weepinbell': 70, 'Victreebel': 71, 'Tentacool': 72, 'Tentacruel': 73, 'Geodude': 74, 'Graveler': 75, 'Golem': 76, 'Ponyta': 77, 'Rapidash': 78, 'Slowpoke': 79, 'Slowbro': 80, 'Magnemite': 81, 'Magneton': 82, 'Farfetch\\'d': 83, 'Doduo': 84, 'Dodrio': 85, 'Seel': 86, 'Dewgong': 87, 'Grimer': 88, 'Muk': 89, 'Shellder': 90, 'Cloyster': 91, 'Gastly': 92, 'Haunter': 93, 'Gengar': 94, 'Onix': 95, 'Drowzee': 96, 'Hypno': 97, 'Krabby': 98, 'Kingler': 99, 'Voltorb': 100, 'Electrode': 101, 'Exeggcute': 102, 'Exeggutor': 103, 'Cubone': 104, 'Marowak': 105, 'Hitmonlee': 106, 'Hitmonchan': 107, 'Lickitung': 108, 'Koffing': 109, 'Weezing': 110, 'Rhyhorn': 111, 'Rhydon': 112, 'Chansey': 113, 'Tangela': 114, 'Kangaskhan': 115, 'Horsea': 116, 'Seadra': 117, 'Goldeen': 118, 'Seaking': 119, 'Staryu': 120, 'Starmie': 121, 'Mr. Mime': 122, 'Scyther': 123, 'Jynx': 124, 'Electabuzz': 125, 'Magmar': 126, 'Pinsir': 127, 'Tauros': 128, 'Magikarp': 129, 'Gyarados': 130, 'Lapras': 131, 'Ditto': 132, 'Eevee': 133, 'Vaporeon': 134, 'Jolteon': 135, 'Flareon': 136, 'Porygon': 137, 'Omanyte': 138, 'Omastar': 139, 'Kabuto': 140, 'Kabutops': 141, 'Aerodactyl': 142, 'Snorlax': 143, 'Articuno': 144, 'Zapdos': 145, 'Moltres': 146, 'Dratini': 147, 'Dragonair': 148, 'Dragonite': 149, 'Mewtwo': 150}"
   ]
  },
  {
   "cell_type": "code",
   "execution_count": 279,
   "metadata": {},
   "outputs": [
    {
     "name": "stdout",
     "output_type": "stream",
     "text": [
      "94\n",
      "Gengar\n",
      "['Diglett', 'Seel', 'Tauros']\n"
     ]
    }
   ],
   "source": [
    "# example usage (you can index either by name or id)\n",
    "print(name_dict['Gengar'])\n",
    "print(name_dict[94])\n",
    "print(pokemons)"
   ]
  },
  {
   "cell_type": "markdown",
   "metadata": {},
   "source": [
    "We are only interested in three specific pokemon: Diglett, Seel, and Tauros."
   ]
  },
  {
   "cell_type": "markdown",
   "metadata": {},
   "source": [
    "<table style=\"width:100%\">\n",
    "  <tr>\n",
    "    <th> <center>Diglett</center> </th>\n",
    "    <th> <center>Seel</center> </th> \n",
    "    <th> <center>Tauros</center> </th>\n",
    "  </tr>\n",
    "  <tr>\n",
    "    <td>![Diglett](https://assets.pokemon.com/assets/cms2/img/pokedex/full/050_f2.png)</td>\n",
    "    <td>![Seel](https://pokemon.gamepedia.com/media/pokemon.gamepedia.com/thumb/f/f1/Seel.png/200px-Seel.png?version=2c32fbe0af2d0da707e5dbcb40472fbf)</td>\n",
    "    <td>![Tauros](https://vignette2.wikia.nocookie.net/pokemon/images/0/01/128Tauros_AG_anime.png/revision/latest?cb=20140924030616)</td>\n",
    "  </tr>\n",
    "</table>\n",
    "\n"
   ]
  },
  {
   "cell_type": "markdown",
   "metadata": {},
   "source": [
    "Filter the dataset to contain only these pokemon."
   ]
  },
  {
   "cell_type": "code",
   "execution_count": 280,
   "metadata": {},
   "outputs": [
    {
     "name": "stdout",
     "output_type": "stream",
     "text": [
      "50 86 128\n",
      "         latitude   longitude  class\n",
      "90      49.146199 -122.638105     50\n",
      "137     44.476769  -73.212749    128\n",
      "225     39.767486  -86.161068    128\n",
      "550     49.999197    9.066973     86\n",
      "629     25.724382 -100.379311     50\n",
      "977     43.708274  -79.399741    128\n",
      "1294    34.207688 -118.509615     50\n",
      "1368    20.438053  -97.318621     50\n",
      "1552    29.286755  -94.792342     86\n",
      "1863    39.803980 -105.209837     50\n",
      "1911    20.534615  -97.454658     50\n",
      "1965    42.351227  -71.064216    128\n",
      "2478    40.921366    9.523765     50\n",
      "2762    37.208853  -93.295426    128\n",
      "2798    44.476223  -73.210105    128\n",
      "2866    44.648699  -63.573143    128\n",
      "2912    39.807193 -105.212853    128\n",
      "3188    37.209047  -93.294482    128\n",
      "3226    44.478543  -73.215677     86\n",
      "3385    39.805413 -105.214407     50\n",
      "3428    48.609821  -93.390542     86\n",
      "3907    30.067422  -94.793798    128\n",
      "3969    43.774418  -79.212907     86\n",
      "3987    53.547730 -113.571242     86\n",
      "4038    43.774126  -79.214494    128\n",
      "4109    40.921922    9.501961     50\n",
      "4203    36.012027 -114.962023     50\n",
      "4429    43.774237  -79.212555    128\n",
      "4542    25.726033 -100.379223     50\n",
      "4676    40.920766    9.513079     86\n",
      "...           ...         ...    ...\n",
      "291631  43.707600  -79.395695    128\n",
      "291832  48.885868    2.355217     86\n",
      "292402  34.009592 -118.496295     50\n",
      "292554  43.727383  -79.285590    128\n",
      "292570  45.529797 -122.868694    128\n",
      "293063 -34.609687  -58.365763     86\n",
      "293170  38.934777  -84.492351     50\n",
      "293383  48.425015 -123.366386    128\n",
      "293501  40.090528 -104.794622     50\n",
      "293727  36.809440 -119.845493     50\n",
      "293872  48.424750 -123.362639    128\n",
      "293888  37.780136 -119.075675    128\n",
      "293977  42.279020  -87.844500    128\n",
      "294021  39.942465  -75.161698    128\n",
      "294093  50.089039   14.417016     86\n",
      "294121  36.194576  -82.956835    128\n",
      "294221  35.369384  -80.721658    128\n",
      "294259  48.425352 -123.363746    128\n",
      "294321  48.421725 -123.365727    128\n",
      "294322  49.158007 -123.016853    128\n",
      "294438  26.237014  -98.195712     50\n",
      "294447  36.810507 -119.854716     50\n",
      "294513  34.187540 -118.487628     86\n",
      "294626  50.146676   14.102292     86\n",
      "294702  50.084102   14.422346     86\n",
      "294822  34.190725 -118.490821    128\n",
      "294909  34.189895 -118.490000     86\n",
      "295194  53.555035   -0.087039     86\n",
      "295436  34.186898 -118.488905     86\n",
      "295529  39.748243  -84.086557    128\n",
      "\n",
      "[2083 rows x 3 columns]\n"
     ]
    }
   ],
   "source": [
    "class_Diglett = (name_dict['Diglett'])\n",
    "class_Seel = (name_dict['Seel'])\n",
    "class_Tauros = (name_dict['Tauros'])\n",
    "print(class_Diglett,class_Seel,class_Tauros)\n",
    "x = data_needed.loc[data_needed['class'].isin([50,86,128])];\n",
    "print(x);"
   ]
  },
  {
   "cell_type": "markdown",
   "metadata": {},
   "source": [
    "## 2. Visualization of the dataset"
   ]
  },
  {
   "cell_type": "markdown",
   "metadata": {},
   "source": [
    "Plot histogram of the number of occurrences of each class."
   ]
  },
  {
   "cell_type": "code",
   "execution_count": 281,
   "metadata": {},
   "outputs": [
    {
     "name": "stdout",
     "output_type": "stream",
     "text": [
      "[ 50 128  86]\n"
     ]
    }
   ],
   "source": [
    "pokemon_names = x['class'].unique()\n",
    "print(pokemon_names)\n",
    "my_bins = len(pokemon_names);"
   ]
  },
  {
   "cell_type": "code",
   "execution_count": 282,
   "metadata": {},
   "outputs": [
    {
     "data": {
      "image/png": "[encoded data removed]",
      "text/plain": [
       "<Figure size 432x288 with 1 Axes>"
      ]
     },
     "metadata": {},
     "output_type": "display_data"
    }
   ],
   "source": [
    "data = x['class']\n",
    "#x.plot(kind='hist', bins=30, alpha=0.7, figsize=[15,6]);\n",
    "fig = plt.subplot();\n",
    "N,bins,patches=plt.hist([x['class'].values],bins=len(pokemons));\n",
    "from matplotlib.patches import Rectangle \n",
    "cmap = plt.get_cmap('jet')\n",
    "for i in range(0,len(pokemons)):\n",
    "    patches[i].set_facecolor(cmap(name_dict[pokemons[i]]/150))\n",
    "    \n",
    "\n",
    "handles = [Rectangle((0,0),1,1,color=cmap(name_dict[pokemon]/150),ec=\"k\") for pokemon in pokemons]\n",
    "\n",
    "labels= pokemons\n",
    "plt.legend(handles, labels)\n",
    "\n",
    "    \n",
    "plt.xticks([0,10,20,30,40,50,60,70,80,90,100,110,120,130,140,150]);"
   ]
  },
  {
   "cell_type": "markdown",
   "metadata": {},
   "source": [
    "Is the dataset balanced?\n",
    "\n",
    "**Your answer**: The dataset looks almost balanced and not completely balanced because all the classes do not contain equal number of samples."
   ]
  },
  {
   "cell_type": "markdown",
   "metadata": {},
   "source": [
    "Plot a scatter plot where the first dimension is latitude, the second is longitude, and each point is a Pokemon. Further, the color of each point should represent which Pokemon it is. Lastly, the marker at each point should be an `'x'`. Make sure to label each axis.\n",
    "\n",
    "Hints:\n",
    "\n",
    "- The `scatter` method from `matplotlib` accepts an argument called `c`.\n",
    "- The `scatter` method also accepts an argument called `marker`."
   ]
  },
  {
   "cell_type": "code",
   "execution_count": 283,
   "metadata": {},
   "outputs": [
    {
     "data": {
      "image/png": "[encoded data removed]",
      "text/plain": [
       "<Figure size 432x288 with 1 Axes>"
      ]
     },
     "metadata": {},
     "output_type": "display_data"
    }
   ],
   "source": [
    "fig = plt.subplot();\n",
    "for pokemon in pokemons:\n",
    "        plt.scatter(x[x['class']==name_dict[pokemon]]['longitude'].values,x[(x['class']==name_dict[pokemon])]['latitude'].values,marker='.')\n",
    "fig.legend(pokemons);\n",
    "\n"
   ]
  },
  {
   "cell_type": "markdown",
   "metadata": {},
   "source": [
    "Is there any other visualization you think would be useful? If so, insert it here."
   ]
  },
  {
   "cell_type": "markdown",
   "metadata": {},
   "source": [
    "I think this is the best way to represnt and visualise the data."
   ]
  },
  {
   "cell_type": "markdown",
   "metadata": {},
   "source": [
    "How hard do you think the problem is? Which classes can/cannot be easily separated?\n",
    "\n",
    "**Your answer**: ( in here) Without sufficient programming skills and knowledge about commands it might be quite difficlut to get this plot.\n",
    "\n",
    "Which accuracy do you expect to achieve?\n",
    "\n",
    "**Your answer**: (fill in here) I expect training accuracy, validation accuracy and test accuracy."
   ]
  },
  {
   "cell_type": "markdown",
   "metadata": {},
   "source": [
    "## 3. Preprocessing"
   ]
  },
  {
   "cell_type": "markdown",
   "metadata": {},
   "source": [
    "Prepare input and output vectors."
   ]
  },
  {
   "cell_type": "code",
   "execution_count": 284,
   "metadata": {},
   "outputs": [
    {
     "name": "stdout",
     "output_type": "stream",
     "text": [
      "[ 50 128 128 ...  86  86 128]\n",
      "(2083, 3)\n",
      "[[1 0 0]\n",
      " [0 0 1]\n",
      " [0 0 1]\n",
      " ...\n",
      " [0 1 0]\n",
      " [0 1 0]\n",
      " [0 0 1]]\n"
     ]
    },
    {
     "name": "stderr",
     "output_type": "stream",
     "text": [
      "D:\\SP_5\\rep2\\lib\\site-packages\\ipykernel_launcher.py:1: FutureWarning: Method .as_matrix will be removed in a future version. Use .values instead.\n",
      "  \"\"\"Entry point for launching an IPython kernel.\n"
     ]
    }
   ],
   "source": [
    "X = x.as_matrix(('longitude','latitude'))\n",
    "Y = x['class'].values \n",
    "print(x['class'].values );\n",
    "y_du = pd.get_dummies(x['class']).values\n",
    "#y = y_du.flatten()\n",
    "print(y_du.shape)\n",
    "print(y_du);"
   ]
  },
  {
   "cell_type": "code",
   "execution_count": 285,
   "metadata": {},
   "outputs": [
    {
     "name": "stdout",
     "output_type": "stream",
     "text": [
      "X (417, 2)\n",
      "y (417, 3)\n",
      "X (1666, 2)\n",
      "y (1666, 3)\n"
     ]
    }
   ],
   "source": [
    "X_train, X_test, y_train, y_test = train_test_split(X, y_du, test_size = 0.2, random_state = 10,shuffle='False')\n",
    "print('X',X_test.shape)\n",
    "print('y',y_test.shape)\n",
    "print('X',X_train.shape)\n",
    "print('y',y_train.shape)\n",
    "\n",
    "#sc = StandardScaler()\n",
    "#X_train = sc.fit_transform(X_train)\n",
    "#X_test = sc.transform(X_test)\n"
   ]
  },
  {
   "cell_type": "markdown",
   "metadata": {},
   "source": [
    "## 4. Training"
   ]
  },
  {
   "cell_type": "markdown",
   "metadata": {},
   "source": [
    "Choose an architecture for your network."
   ]
  },
  {
   "cell_type": "code",
   "execution_count": 286,
   "metadata": {},
   "outputs": [],
   "source": [
    "#weights = keras.initializers.Constant(value=0.5);\n",
    "from keras.optimizers import SGD\n",
    "\n",
    "Pokemon_finder = Sequential()\n",
    "Pokemon_finder.add(Dense(30, input_dim=2,activation='relu'))\n",
    "Pokemon_finder.add(Dense(25, activation='relu'))\n",
    "Pokemon_finder.add(Dense(3, activation='softmax'))\n",
    "\n",
    "Pokemon_finder.compile(Adam(lr=0.001), \n",
    "              loss='categorical_crossentropy', \n",
    "              metrics=['accuracy'])\n"
   ]
  },
  {
   "cell_type": "markdown",
   "metadata": {},
   "source": [
    "Train the network. When training, separate 25% of your training data into a validation set."
   ]
  },
  {
   "cell_type": "code",
   "execution_count": 287,
   "metadata": {},
   "outputs": [
    {
     "name": "stdout",
     "output_type": "stream",
     "text": [
      "Train on 1249 samples, validate on 417 samples\n",
      "Epoch 1/50\n",
      "1249/1249 [==============================] - 1s 749us/step - loss: 1.8529 - acc: 0.3171 - val_loss: 1.2036 - val_acc: 0.5132\n",
      "Epoch 2/50\n",
      "1249/1249 [==============================] - 0s 45us/step - loss: 0.9309 - acc: 0.5917 - val_loss: 0.9525 - val_acc: 0.5779\n",
      "Epoch 3/50\n",
      "1249/1249 [==============================] - 0s 46us/step - loss: 0.8491 - acc: 0.6285 - val_loss: 0.9191 - val_acc: 0.5683\n",
      "Epoch 4/50\n",
      "1249/1249 [==============================] - 0s 46us/step - loss: 0.8247 - acc: 0.6365 - val_loss: 0.8808 - val_acc: 0.5899\n",
      "Epoch 5/50\n",
      "1249/1249 [==============================] - 0s 45us/step - loss: 0.8196 - acc: 0.6221 - val_loss: 0.9157 - val_acc: 0.5899\n",
      "Epoch 6/50\n",
      "1249/1249 [==============================] - 0s 48us/step - loss: 0.8096 - acc: 0.6397 - val_loss: 0.8549 - val_acc: 0.5851\n",
      "Epoch 7/50\n",
      "1249/1249 [==============================] - 0s 45us/step - loss: 0.7753 - acc: 0.6557 - val_loss: 0.8859 - val_acc: 0.5827\n",
      "Epoch 8/50\n",
      "1249/1249 [==============================] - 0s 47us/step - loss: 0.7837 - acc: 0.6597 - val_loss: 0.8692 - val_acc: 0.6139\n",
      "Epoch 9/50\n",
      "1249/1249 [==============================] - 0s 46us/step - loss: 0.8098 - acc: 0.6365 - val_loss: 0.9542 - val_acc: 0.5851\n",
      "Epoch 10/50\n",
      "1249/1249 [==============================] - 0s 47us/step - loss: 0.8648 - acc: 0.6213 - val_loss: 1.0117 - val_acc: 0.5635\n",
      "Epoch 11/50\n",
      "1249/1249 [==============================] - 0s 46us/step - loss: 0.8063 - acc: 0.6269 - val_loss: 0.9534 - val_acc: 0.6139\n",
      "Epoch 12/50\n",
      "1249/1249 [==============================] - 0s 46us/step - loss: 0.7926 - acc: 0.6541 - val_loss: 0.8773 - val_acc: 0.6187\n",
      "Epoch 13/50\n",
      "1249/1249 [==============================] - 0s 46us/step - loss: 0.7877 - acc: 0.6637 - val_loss: 0.8486 - val_acc: 0.5731\n",
      "Epoch 14/50\n",
      "1249/1249 [==============================] - 0s 46us/step - loss: 0.7759 - acc: 0.6525 - val_loss: 0.9115 - val_acc: 0.6091\n",
      "Epoch 15/50\n",
      "1249/1249 [==============================] - 0s 46us/step - loss: 0.7715 - acc: 0.6461 - val_loss: 0.8469 - val_acc: 0.5899\n",
      "Epoch 16/50\n",
      "1249/1249 [==============================] - 0s 46us/step - loss: 0.7761 - acc: 0.6493 - val_loss: 0.9278 - val_acc: 0.6115\n",
      "Epoch 17/50\n",
      "1249/1249 [==============================] - 0s 46us/step - loss: 0.7657 - acc: 0.6597 - val_loss: 0.8860 - val_acc: 0.6115\n",
      "Epoch 18/50\n",
      "1249/1249 [==============================] - 0s 47us/step - loss: 0.7751 - acc: 0.6541 - val_loss: 0.8577 - val_acc: 0.5803\n",
      "Epoch 19/50\n",
      "1249/1249 [==============================] - 0s 46us/step - loss: 0.7956 - acc: 0.6429 - val_loss: 0.8655 - val_acc: 0.5803\n",
      "Epoch 20/50\n",
      "1249/1249 [==============================] - 0s 45us/step - loss: 0.7631 - acc: 0.6509 - val_loss: 0.8568 - val_acc: 0.5971\n",
      "Epoch 21/50\n",
      "1249/1249 [==============================] - 0s 47us/step - loss: 0.7775 - acc: 0.6573 - val_loss: 0.8635 - val_acc: 0.5875\n",
      "Epoch 22/50\n",
      "1249/1249 [==============================] - 0s 48us/step - loss: 0.7917 - acc: 0.6365 - val_loss: 1.1660 - val_acc: 0.5156\n",
      "Epoch 23/50\n",
      "1249/1249 [==============================] - 0s 47us/step - loss: 0.8957 - acc: 0.6101 - val_loss: 0.8402 - val_acc: 0.5875\n",
      "Epoch 24/50\n",
      "1249/1249 [==============================] - 0s 47us/step - loss: 0.7790 - acc: 0.6341 - val_loss: 0.9534 - val_acc: 0.6091\n",
      "Epoch 25/50\n",
      "1249/1249 [==============================] - 0s 46us/step - loss: 0.7948 - acc: 0.6509 - val_loss: 0.8939 - val_acc: 0.6043\n",
      "Epoch 26/50\n",
      "1249/1249 [==============================] - 0s 46us/step - loss: 0.7626 - acc: 0.6581 - val_loss: 0.9686 - val_acc: 0.5683\n",
      "Epoch 27/50\n",
      "1249/1249 [==============================] - 0s 47us/step - loss: 0.8338 - acc: 0.6213 - val_loss: 0.8482 - val_acc: 0.6115\n",
      "Epoch 28/50\n",
      "1249/1249 [==============================] - 0s 46us/step - loss: 0.7805 - acc: 0.6613 - val_loss: 0.9141 - val_acc: 0.6235\n",
      "Epoch 29/50\n",
      "1249/1249 [==============================] - 0s 46us/step - loss: 0.7849 - acc: 0.6621 - val_loss: 0.9020 - val_acc: 0.5779\n",
      "Epoch 30/50\n",
      "1249/1249 [==============================] - 0s 47us/step - loss: 0.7636 - acc: 0.6533 - val_loss: 0.9020 - val_acc: 0.6019\n",
      "Epoch 31/50\n",
      "1249/1249 [==============================] - 0s 46us/step - loss: 0.7680 - acc: 0.6549 - val_loss: 0.9117 - val_acc: 0.6091\n",
      "Epoch 32/50\n",
      "1249/1249 [==============================] - 0s 46us/step - loss: 0.7924 - acc: 0.6293 - val_loss: 0.9176 - val_acc: 0.6139\n",
      "Epoch 33/50\n",
      "1249/1249 [==============================] - 0s 47us/step - loss: 0.7899 - acc: 0.6453 - val_loss: 0.9128 - val_acc: 0.6187\n",
      "Epoch 34/50\n",
      "1249/1249 [==============================] - 0s 46us/step - loss: 0.7613 - acc: 0.6541 - val_loss: 0.8567 - val_acc: 0.5779\n",
      "Epoch 35/50\n",
      "1249/1249 [==============================] - 0s 48us/step - loss: 0.8174 - acc: 0.6237 - val_loss: 0.8448 - val_acc: 0.5899\n",
      "Epoch 36/50\n",
      "1249/1249 [==============================] - 0s 48us/step - loss: 0.7765 - acc: 0.6501 - val_loss: 0.9093 - val_acc: 0.6211\n",
      "Epoch 37/50\n",
      "1249/1249 [==============================] - 0s 60us/step - loss: 0.7565 - acc: 0.6613 - val_loss: 0.9325 - val_acc: 0.4844\n",
      "Epoch 38/50\n",
      "1249/1249 [==============================] - 0s 45us/step - loss: 0.7805 - acc: 0.6509 - val_loss: 0.8732 - val_acc: 0.6067\n",
      "Epoch 39/50\n",
      "1249/1249 [==============================] - 0s 46us/step - loss: 0.7564 - acc: 0.6509 - val_loss: 0.9471 - val_acc: 0.4796\n",
      "Epoch 40/50\n",
      "1249/1249 [==============================] - 0s 45us/step - loss: 0.8075 - acc: 0.6485 - val_loss: 0.8424 - val_acc: 0.5875\n",
      "Epoch 41/50\n",
      "1249/1249 [==============================] - 0s 47us/step - loss: 0.7614 - acc: 0.6597 - val_loss: 0.9979 - val_acc: 0.6139\n",
      "Epoch 42/50\n",
      "1249/1249 [==============================] - 0s 47us/step - loss: 0.7892 - acc: 0.6581 - val_loss: 0.8908 - val_acc: 0.6235\n",
      "Epoch 43/50\n",
      "1249/1249 [==============================] - 0s 46us/step - loss: 0.7777 - acc: 0.6565 - val_loss: 0.8767 - val_acc: 0.5803\n",
      "Epoch 44/50\n",
      "1249/1249 [==============================] - 0s 48us/step - loss: 0.7765 - acc: 0.6597 - val_loss: 0.8604 - val_acc: 0.6139\n",
      "Epoch 45/50\n",
      "1249/1249 [==============================] - 0s 48us/step - loss: 0.7622 - acc: 0.6549 - val_loss: 0.9595 - val_acc: 0.6043\n",
      "Epoch 46/50\n",
      "1249/1249 [==============================] - 0s 46us/step - loss: 0.8400 - acc: 0.6365 - val_loss: 0.8913 - val_acc: 0.6115\n",
      "Epoch 47/50\n",
      "1249/1249 [==============================] - 0s 46us/step - loss: 0.7552 - acc: 0.6541 - val_loss: 1.0117 - val_acc: 0.6187\n",
      "Epoch 48/50\n",
      "1249/1249 [==============================] - 0s 46us/step - loss: 0.7868 - acc: 0.6477 - val_loss: 1.0703 - val_acc: 0.5276\n",
      "Epoch 49/50\n",
      "1249/1249 [==============================] - 0s 48us/step - loss: 0.8275 - acc: 0.6437 - val_loss: 0.8793 - val_acc: 0.5899\n",
      "Epoch 50/50\n",
      "1249/1249 [==============================] - 0s 48us/step - loss: 0.7569 - acc: 0.6661 - val_loss: 0.8552 - val_acc: 0.5899\n"
     ]
    }
   ],
   "source": [
    "Pokemon_finder.fit(X_train, y_train, epochs=50, validation_split=0.25,verbose=1);\n",
    "#print(X_train.shape)\n",
    "#print(y_train)\n",
    "#print(X_validate.shape)\n",
    "#print(y_validate.shape)"
   ]
  },
  {
   "cell_type": "markdown",
   "metadata": {},
   "source": [
    "For you to pass this assignment, you must obtain an accuracy on the validation set greater than 50%. It may be necessary to search for a good architecture by trying several different ones. If you want a challenge, try getting an accuracy greater than 63%."
   ]
  },
  {
   "cell_type": "markdown",
   "metadata": {},
   "source": [
    "## 5. Evaluation"
   ]
  },
  {
   "cell_type": "markdown",
   "metadata": {},
   "source": [
    "Once you achieved at least 50% accuracy in the validation set, we are done with training. Now we'll evaluate the performance of your classifier on the test set."
   ]
  },
  {
   "cell_type": "markdown",
   "metadata": {},
   "source": [
    "Compute the accuracy on the test set."
   ]
  },
  {
   "cell_type": "code",
   "execution_count": 288,
   "metadata": {},
   "outputs": [
    {
     "name": "stdout",
     "output_type": "stream",
     "text": [
      "Accuracy: 0.66\n"
     ]
    }
   ],
   "source": [
    "from sklearn.metrics import accuracy_score, confusion_matrix\n",
    "Y_pred = Pokemon_finder.predict(X_test)\n",
    "y_test_class = np.argmax(y_test, axis=1)\n",
    "y_pred_class = np.argmax(Y_pred, axis=1)\n",
    "acc = accuracy_score(y_test_class, y_pred_class)\n",
    "print(\"Accuracy: %.2f\" % acc)\n"
   ]
  },
  {
   "cell_type": "markdown",
   "metadata": {},
   "source": [
    "Compute the confusion matrix of your predictions on the test set."
   ]
  },
  {
   "cell_type": "code",
   "execution_count": 289,
   "metadata": {},
   "outputs": [
    {
     "data": {
      "text/plain": [
       "array([[96, 30, 17],\n",
       "       [14, 86, 30],\n",
       "       [52,  0, 92]], dtype=int64)"
      ]
     },
     "execution_count": 289,
     "metadata": {},
     "output_type": "execute_result"
    }
   ],
   "source": [
    "confusion_matrix(y_test_class, y_pred_class)"
   ]
  },
  {
   "cell_type": "markdown",
   "metadata": {},
   "source": [
    "## 6. Exploration"
   ]
  },
  {
   "cell_type": "markdown",
   "metadata": {},
   "source": [
    "You have now trained and evaluated a neural network for this particular classification task. Can you provide a brief explanation as to how you could use it to decide where to travel, if you're interested in capturing the aforementioned Pokemons?\n",
    "\n",
    "**Answer**: (fill in here)The confusion matrix yeilds the likelihood of the pokemons. It infers that the number of pokemons of each class can be likely found in the respective regions corresponding with the scatter plot in serction 2."
   ]
  },
  {
   "cell_type": "markdown",
   "metadata": {},
   "source": [
    "Is(are) there any other feature(s) from the original dataset (e.g. hour of the day, pressure, wind speed, population density, etc.) which you think would be valuable to add as an input feature to your classifier to improve its performance? \n",
    "\n",
    "**Your answer**: (fill in here) I think it would be good to add the terrain of the place where pokemons are found. I have added the terrainType coloumn to my Neural Network and results are down below."
   ]
  },
  {
   "cell_type": "markdown",
   "metadata": {},
   "source": [
    "To investigate your hypothesis, plot a histogram of the selected feature(s) for each one of the pokemons we're interested in. For example, if you think pressure and population density are valuable for prediction, plot 6 histograms. 3 of them will be the pressure histograms for each class ('Diglett', 'Seel' and 'Tauros'), and the other 3 will be the population density for each class."
   ]
  },
  {
   "cell_type": "code",
   "execution_count": 290,
   "metadata": {},
   "outputs": [
    {
     "name": "stdout",
     "output_type": "stream",
     "text": [
      "(2083, 4)\n"
     ]
    },
    {
     "data": {
      "image/png": "[encoded data removed]",
      "text/plain": [
       "<Figure size 775x720 with 20 Axes>"
      ]
     },
     "metadata": {},
     "output_type": "display_data"
    }
   ],
   "source": [
    "data_filtered = data_new_feature.loc[data_new_feature['class'].isin([50,86,128])];\n",
    "print(data_filtered.shape)\n",
    "sns.pairplot(data_filtered, hue='class');\n",
    "plt.xlabel(\"Pokemon Class 50:Diglett, 86:Seel,128: Tauros\")\n",
    "plt.ylabel(\"Values\")\n",
    "#plt.title(\"Adding Aditional feature\") # You can comment this line out if you don't need title\n",
    "plt.show(fig)"
   ]
  },
  {
   "cell_type": "markdown",
   "metadata": {},
   "source": [
    "What does(do) this(ese) histogram(s) show you? Could it be beneficial to add this(ese) new feature(s) as input? Explain why/why not.\n",
    "\n",
    "**Your answer**: (fill in here) The histogram shows the frequency of occurrencies of each class of pokemon with respect to the terrainType. Yes, it is benificial to add this data. As we can see below the efficiency and the predictions get better with this additional data. "
   ]
  },
  {
   "cell_type": "markdown",
   "metadata": {},
   "source": [
    "## 7. (optional)"
   ]
  },
  {
   "cell_type": "markdown",
   "metadata": {},
   "source": [
    "Assuming you found useful new features in the last part of this assignment, train a new classifier that uses these featues as well. Did the accuracy on the validation set improve? What's the highest accuracy you can achieve?"
   ]
  },
  {
   "cell_type": "code",
   "execution_count": 291,
   "metadata": {},
   "outputs": [
    {
     "name": "stdout",
     "output_type": "stream",
     "text": [
      "(2083, 3)\n"
     ]
    },
    {
     "name": "stderr",
     "output_type": "stream",
     "text": [
      "D:\\SP_5\\rep2\\lib\\site-packages\\ipykernel_launcher.py:1: FutureWarning: Method .as_matrix will be removed in a future version. Use .values instead.\n",
      "  \"\"\"Entry point for launching an IPython kernel.\n"
     ]
    }
   ],
   "source": [
    "X_new_feature = data_filtered.as_matrix(('longitude','latitude','terrainType'));\n",
    "print(X_new_feature.shape)"
   ]
  },
  {
   "cell_type": "code",
   "execution_count": 292,
   "metadata": {},
   "outputs": [
    {
     "name": "stdout",
     "output_type": "stream",
     "text": [
      "X (417, 3)\n",
      "y (417, 3)\n",
      "X (1666, 3)\n",
      "y (1666, 3)\n"
     ]
    }
   ],
   "source": [
    "X_train_new, X_test_new, y_train, y_test = train_test_split(X_new_feature, y_du, test_size = 0.2, random_state = 10,shuffle='False')\n",
    "print('X',X_test_new.shape)\n",
    "print('y',y_test.shape)\n",
    "print('X',X_train_new.shape)\n",
    "print('y',y_train.shape)\n",
    "\n",
    "#sc = StandardScaler()\n",
    "#X_train = sc.fit_transform(X_train)\n",
    "#X_test = sc.transform(X_test)\n"
   ]
  },
  {
   "cell_type": "code",
   "execution_count": 293,
   "metadata": {},
   "outputs": [],
   "source": [
    "#weights = keras.initializers.Constant(value=0.5);\n",
    "from keras.optimizers import SGD\n",
    "\n",
    "Pokemon_finder_new = Sequential()\n",
    "Pokemon_finder_new.add(Dense(30, input_dim=3,activation='relu'))\n",
    "Pokemon_finder_new.add(Dense(25, activation='relu'))\n",
    "Pokemon_finder_new.add(Dense(3, activation='softmax'))\n",
    "\n",
    "Pokemon_finder_new.compile(Adam(lr=0.001), \n",
    "              loss='categorical_crossentropy', \n",
    "              metrics=['accuracy'])\n"
   ]
  },
  {
   "cell_type": "code",
   "execution_count": 294,
   "metadata": {},
   "outputs": [
    {
     "name": "stdout",
     "output_type": "stream",
     "text": [
      "Train on 1249 samples, validate on 417 samples\n",
      "Epoch 1/50\n",
      "1249/1249 [==============================] - 1s 774us/step - loss: 10.0027 - acc: 0.3323 - val_loss: 9.5658 - val_acc: 0.3333\n",
      "Epoch 2/50\n",
      "1249/1249 [==============================] - 0s 45us/step - loss: 7.6849 - acc: 0.3955 - val_loss: 5.5991 - val_acc: 0.4724\n",
      "Epoch 3/50\n",
      "1249/1249 [==============================] - 0s 44us/step - loss: 3.8771 - acc: 0.5204 - val_loss: 1.8127 - val_acc: 0.4772\n",
      "Epoch 4/50\n",
      "1249/1249 [==============================] - 0s 46us/step - loss: 0.9973 - acc: 0.5949 - val_loss: 0.9208 - val_acc: 0.5635\n",
      "Epoch 5/50\n",
      "1249/1249 [==============================] - 0s 46us/step - loss: 0.7997 - acc: 0.6477 - val_loss: 0.9075 - val_acc: 0.5923\n",
      "Epoch 6/50\n",
      "1249/1249 [==============================] - 0s 45us/step - loss: 0.7793 - acc: 0.6477 - val_loss: 0.9052 - val_acc: 0.5827\n",
      "Epoch 7/50\n",
      "1249/1249 [==============================] - 0s 46us/step - loss: 0.7599 - acc: 0.6581 - val_loss: 0.8556 - val_acc: 0.5899\n",
      "Epoch 8/50\n",
      "1249/1249 [==============================] - 0s 45us/step - loss: 0.7832 - acc: 0.6245 - val_loss: 0.8591 - val_acc: 0.5803\n",
      "Epoch 9/50\n",
      "1249/1249 [==============================] - 0s 45us/step - loss: 0.7896 - acc: 0.6437 - val_loss: 0.8824 - val_acc: 0.5731\n",
      "Epoch 10/50\n",
      "1249/1249 [==============================] - 0s 46us/step - loss: 0.7889 - acc: 0.6477 - val_loss: 0.8982 - val_acc: 0.5755\n",
      "Epoch 11/50\n",
      "1249/1249 [==============================] - 0s 45us/step - loss: 0.7685 - acc: 0.6525 - val_loss: 0.8737 - val_acc: 0.5779\n",
      "Epoch 12/50\n",
      "1249/1249 [==============================] - 0s 46us/step - loss: 0.7496 - acc: 0.6453 - val_loss: 0.8771 - val_acc: 0.5827\n",
      "Epoch 13/50\n",
      "1249/1249 [==============================] - 0s 46us/step - loss: 0.7559 - acc: 0.6557 - val_loss: 0.8902 - val_acc: 0.6115\n",
      "Epoch 14/50\n",
      "1249/1249 [==============================] - 0s 45us/step - loss: 0.7544 - acc: 0.6701 - val_loss: 0.8591 - val_acc: 0.5947\n",
      "Epoch 15/50\n",
      "1249/1249 [==============================] - 0s 46us/step - loss: 0.7526 - acc: 0.6493 - val_loss: 0.8765 - val_acc: 0.6067\n",
      "Epoch 16/50\n",
      "1249/1249 [==============================] - 0s 45us/step - loss: 0.7681 - acc: 0.6437 - val_loss: 0.8633 - val_acc: 0.5827\n",
      "Epoch 17/50\n",
      "1249/1249 [==============================] - 0s 46us/step - loss: 0.7426 - acc: 0.6525 - val_loss: 0.8997 - val_acc: 0.5827\n",
      "Epoch 18/50\n",
      "1249/1249 [==============================] - 0s 46us/step - loss: 0.7673 - acc: 0.6573 - val_loss: 0.8581 - val_acc: 0.6163\n",
      "Epoch 19/50\n",
      "1249/1249 [==============================] - 0s 45us/step - loss: 0.7925 - acc: 0.6397 - val_loss: 0.9023 - val_acc: 0.6235\n",
      "Epoch 20/50\n",
      "1249/1249 [==============================] - 0s 45us/step - loss: 0.7862 - acc: 0.6581 - val_loss: 0.8324 - val_acc: 0.6091\n",
      "Epoch 21/50\n",
      "1249/1249 [==============================] - 0s 46us/step - loss: 0.7473 - acc: 0.6653 - val_loss: 0.9076 - val_acc: 0.5995\n",
      "Epoch 22/50\n",
      "1249/1249 [==============================] - 0s 46us/step - loss: 0.7651 - acc: 0.6477 - val_loss: 0.8208 - val_acc: 0.5731\n",
      "Epoch 23/50\n",
      "1249/1249 [==============================] - 0s 46us/step - loss: 0.7477 - acc: 0.6525 - val_loss: 0.8265 - val_acc: 0.5947\n",
      "Epoch 24/50\n",
      "1249/1249 [==============================] - 0s 48us/step - loss: 0.7531 - acc: 0.6325 - val_loss: 0.8304 - val_acc: 0.5851\n",
      "Epoch 25/50\n",
      "1249/1249 [==============================] - 0s 48us/step - loss: 0.7501 - acc: 0.6677 - val_loss: 0.8433 - val_acc: 0.5923\n",
      "Epoch 26/50\n",
      "1249/1249 [==============================] - 0s 46us/step - loss: 0.7380 - acc: 0.6565 - val_loss: 0.8299 - val_acc: 0.5779\n",
      "Epoch 27/50\n",
      "1249/1249 [==============================] - 0s 48us/step - loss: 0.8166 - acc: 0.6229 - val_loss: 0.9828 - val_acc: 0.5731\n",
      "Epoch 28/50\n",
      "1249/1249 [==============================] - 0s 47us/step - loss: 0.7433 - acc: 0.6605 - val_loss: 0.8447 - val_acc: 0.5731\n",
      "Epoch 29/50\n",
      "1249/1249 [==============================] - 0s 48us/step - loss: 0.7423 - acc: 0.6685 - val_loss: 0.8407 - val_acc: 0.5779\n",
      "Epoch 30/50\n",
      "1249/1249 [==============================] - 0s 48us/step - loss: 0.7661 - acc: 0.6317 - val_loss: 0.8746 - val_acc: 0.6187\n",
      "Epoch 31/50\n",
      "1249/1249 [==============================] - 0s 46us/step - loss: 0.7612 - acc: 0.6445 - val_loss: 0.7998 - val_acc: 0.5851\n",
      "Epoch 32/50\n",
      "1249/1249 [==============================] - 0s 48us/step - loss: 0.7327 - acc: 0.6469 - val_loss: 0.8363 - val_acc: 0.6115\n",
      "Epoch 33/50\n",
      "1249/1249 [==============================] - 0s 46us/step - loss: 0.7377 - acc: 0.6541 - val_loss: 0.8747 - val_acc: 0.5971\n",
      "Epoch 34/50\n",
      "1249/1249 [==============================] - 0s 46us/step - loss: 0.7430 - acc: 0.6605 - val_loss: 0.8521 - val_acc: 0.6187\n",
      "Epoch 35/50\n",
      "1249/1249 [==============================] - 0s 46us/step - loss: 0.7493 - acc: 0.6541 - val_loss: 0.8802 - val_acc: 0.6283\n",
      "Epoch 36/50\n",
      "1249/1249 [==============================] - 0s 47us/step - loss: 0.7532 - acc: 0.6629 - val_loss: 0.8363 - val_acc: 0.6043\n",
      "Epoch 37/50\n",
      "1249/1249 [==============================] - 0s 47us/step - loss: 0.7643 - acc: 0.6429 - val_loss: 0.8502 - val_acc: 0.5947\n",
      "Epoch 38/50\n",
      "1249/1249 [==============================] - 0s 47us/step - loss: 0.7312 - acc: 0.6669 - val_loss: 0.8820 - val_acc: 0.6211\n",
      "Epoch 39/50\n",
      "1249/1249 [==============================] - 0s 48us/step - loss: 0.7408 - acc: 0.6613 - val_loss: 0.8225 - val_acc: 0.6139\n",
      "Epoch 40/50\n",
      "1249/1249 [==============================] - 0s 46us/step - loss: 0.7565 - acc: 0.6541 - val_loss: 0.8016 - val_acc: 0.5707\n",
      "Epoch 41/50\n",
      "1249/1249 [==============================] - 0s 48us/step - loss: 0.7316 - acc: 0.6437 - val_loss: 0.8556 - val_acc: 0.5731\n",
      "Epoch 42/50\n",
      "1249/1249 [==============================] - 0s 48us/step - loss: 0.7516 - acc: 0.6517 - val_loss: 0.8574 - val_acc: 0.6259\n",
      "Epoch 43/50\n",
      "1249/1249 [==============================] - 0s 48us/step - loss: 0.7310 - acc: 0.6589 - val_loss: 0.8215 - val_acc: 0.6091\n",
      "Epoch 44/50\n",
      "1249/1249 [==============================] - 0s 48us/step - loss: 0.7334 - acc: 0.6653 - val_loss: 0.8021 - val_acc: 0.5827\n",
      "Epoch 45/50\n",
      "1249/1249 [==============================] - 0s 48us/step - loss: 0.7257 - acc: 0.6541 - val_loss: 0.8346 - val_acc: 0.6067\n",
      "Epoch 46/50\n",
      "1249/1249 [==============================] - 0s 48us/step - loss: 0.7439 - acc: 0.6653 - val_loss: 0.8165 - val_acc: 0.5971\n",
      "Epoch 47/50\n",
      "1249/1249 [==============================] - 0s 46us/step - loss: 0.7269 - acc: 0.6621 - val_loss: 0.8400 - val_acc: 0.5971\n",
      "Epoch 48/50\n",
      "1249/1249 [==============================] - 0s 48us/step - loss: 0.7317 - acc: 0.6741 - val_loss: 0.8266 - val_acc: 0.6211\n",
      "Epoch 49/50\n",
      "1249/1249 [==============================] - 0s 48us/step - loss: 0.7233 - acc: 0.6645 - val_loss: 0.8601 - val_acc: 0.6163\n",
      "Epoch 50/50\n",
      "1249/1249 [==============================] - 0s 47us/step - loss: 0.7286 - acc: 0.6645 - val_loss: 0.8998 - val_acc: 0.6307\n",
      "(1666, 3)\n",
      "[[1 0 0]\n",
      " [0 0 1]\n",
      " [0 0 1]\n",
      " ...\n",
      " [1 0 0]\n",
      " [0 0 1]\n",
      " [1 0 0]]\n"
     ]
    }
   ],
   "source": [
    "Pokemon_finder_new.fit(X_train_new, y_train, epochs=50, validation_split=0.25,verbose=1);\n",
    "print(X_train_new.shape)\n",
    "print(y_train)\n",
    "#print(X_validate.shape)\n",
    "#print(y_validate.shape)"
   ]
  },
  {
   "cell_type": "code",
   "execution_count": 295,
   "metadata": {},
   "outputs": [
    {
     "name": "stdout",
     "output_type": "stream",
     "text": [
      "Accuracy: 0.66\n"
     ]
    }
   ],
   "source": [
    "from sklearn.metrics import accuracy_score, confusion_matrix\n",
    "Y_pred_new = Pokemon_finder_new.predict(X_test_new)\n",
    "y_test_class_new = np.argmax(y_test, axis=1)\n",
    "y_pred_class_new = np.argmax(Y_pred_new, axis=1)\n",
    "acc_new = accuracy_score(y_test_class, y_pred_class)\n",
    "print(\"Accuracy: %.2f\" % acc)\n"
   ]
  },
  {
   "cell_type": "code",
   "execution_count": 296,
   "metadata": {},
   "outputs": [
    {
     "data": {
      "text/plain": [
       "array([[ 61,  42,  40],\n",
       "       [  2, 103,  25],\n",
       "       [ 12,  22, 110]], dtype=int64)"
      ]
     },
     "execution_count": 296,
     "metadata": {},
     "output_type": "execute_result"
    }
   ],
   "source": [
    "confusion_matrix(y_test_class_new, y_pred_class_new)"
   ]
  },
  {
   "cell_type": "markdown",
   "metadata": {},
   "source": [
    "The Validation accuracy pretty much remian the same, but the classification is pretty clear when we use the terrain coloumn. The numbers in the confusion matrix is more promising than that with just longitude and latitude."
   ]
  },
  {
   "cell_type": "code",
   "execution_count": null,
   "metadata": {},
   "outputs": [],
   "source": []
  }
 ],
 "metadata": {
  "kernelspec": {
   "display_name": "Python 3",
   "language": "python",
   "name": "python3"
  },
  "language_info": {
   "codemirror_mode": {
    "name": "ipython",
    "version": 3
   },
   "file_extension": ".py",
   "mimetype": "text/x-python",
   "name": "python",
   "nbconvert_exporter": "python",
   "pygments_lexer": "ipython3",
   "version": "3.6.5"
  }
 },
 "nbformat": 4,
 "nbformat_minor": 2
}
